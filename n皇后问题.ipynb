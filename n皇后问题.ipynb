{
 "cells": [
  {
   "cell_type": "code",
   "execution_count": 46,
   "id": "cf557c19",
   "metadata": {
    "ExecuteTime": {
     "end_time": "2022-03-14T08:11:21.695071Z",
     "start_time": "2022-03-14T08:11:21.692606Z"
    }
   },
   "outputs": [],
   "source": [
    "import numpy as np\n",
    "import time"
   ]
  },
  {
   "cell_type": "code",
   "execution_count": 47,
   "id": "b589759e",
   "metadata": {
    "ExecuteTime": {
     "end_time": "2022-03-14T08:11:22.365275Z",
     "start_time": "2022-03-14T08:11:22.362441Z"
    }
   },
   "outputs": [],
   "source": [
    "class Timer:\n",
    "    \"\"\"计时\"\"\"\n",
    "\n",
    "    def __init__(self):\n",
    "        self.times = []\n",
    "        self.start()\n",
    "        self.tik = None\n",
    "\n",
    "    def start(self):\n",
    "        self.tik = time.time()\n",
    "\n",
    "    def stop(self):\n",
    "        self.times.append(time.time() - self.tik)\n",
    "        return self.times[-1]"
   ]
  },
  {
   "cell_type": "code",
   "execution_count": 48,
   "id": "c3846661",
   "metadata": {
    "ExecuteTime": {
     "end_time": "2022-03-14T08:11:22.876724Z",
     "start_time": "2022-03-14T08:11:22.866706Z"
    }
   },
   "outputs": [],
   "source": [
    "class Board:\n",
    "    \"\"\"0代表无棋子,1代表有皇后\"\"\"\n",
    "\n",
    "    def __init__(self, n):\n",
    "        self.board = np.zeros((n, n))\n",
    "        self.n = n\n",
    "\n",
    "    def set(self, row, col):\n",
    "        self.board[row][col] = 1\n",
    "\n",
    "    def reset(self):\n",
    "        self.board = np.zeros((self.n, self.n))"
   ]
  },
  {
   "cell_type": "code",
   "execution_count": 49,
   "id": "6887692f",
   "metadata": {
    "ExecuteTime": {
     "end_time": "2022-03-14T08:11:23.339377Z",
     "start_time": "2022-03-14T08:11:23.330072Z"
    }
   },
   "outputs": [],
   "source": [
    "class NQueens:\n",
    "    def __init__(self, n):\n",
    "        self.board = Board(n)\n",
    "        self.n = n\n",
    "        self.timer = Timer()\n",
    "        self.result = []\n",
    "        self.answers = []\n",
    "\n",
    "    def solve(self):\n",
    "        self.timer.start()\n",
    "        self.recursion(self.n, [], [[], [], []])\n",
    "        self.show()\n",
    "        print('共有{}种可能的布局,运行时间{}ms'.format(len(self.answers), self.timer.stop() * 1000))\n",
    "\n",
    "    def recursion(self, n, result, pre_forbid):\n",
    "        \"\"\"递归求解\"\"\"\n",
    "        if len(result) == n:  # 递归退出条件\n",
    "            self.result.append(result)\n",
    "            return\n",
    "        left, right, down = pre_forbid  # 放置棋子的行下一行的左下右三个格子不能放置\n",
    "        left, right = [i - 1 for i in left], [i + 1 for i in right]  # 左右格每行更新\n",
    "        forbid = left + right + down\n",
    "        for pos in range(n):\n",
    "            if pos in forbid:\n",
    "                continue\n",
    "            else:\n",
    "                self.recursion(n, result + [pos], [left + [pos], right + [pos], down + [pos]])\n",
    "\n",
    "    def show(self):\n",
    "        \"\"\"转换结果供显示\"\"\"\n",
    "        for num, answer in zip(range(len(self.result)), self.result):\n",
    "            for row, col in zip(range(self.n), answer):\n",
    "                self.board.set(row, col)\n",
    "            self.answers.append(self.board.board)\n",
    "            print('第{}种布局:\\n{}'.format(num + 1, self.board.board))\n",
    "            self.board.reset()"
   ]
  },
  {
   "cell_type": "code",
   "execution_count": 51,
   "id": "99ae1ffb",
   "metadata": {
    "ExecuteTime": {
     "end_time": "2022-03-14T08:11:31.456285Z",
     "start_time": "2022-03-14T08:11:31.452607Z"
    }
   },
   "outputs": [
    {
     "name": "stdout",
     "output_type": "stream",
     "text": [
      "第1种布局:\n",
      "[[0. 1. 0. 0.]\n",
      " [0. 0. 0. 1.]\n",
      " [1. 0. 0. 0.]\n",
      " [0. 0. 1. 0.]]\n",
      "第2种布局:\n",
      "[[0. 0. 1. 0.]\n",
      " [1. 0. 0. 0.]\n",
      " [0. 0. 0. 1.]\n",
      " [0. 1. 0. 0.]]\n",
      "共有2种可能的布局,运行时间0.9500980377197266ms\n"
     ]
    }
   ],
   "source": [
    "problem = NQueens(4)\n",
    "problem.solve()"
   ]
  }
 ],
 "metadata": {
  "kernelspec": {
   "display_name": "Python 3",
   "language": "python",
   "name": "python3"
  },
  "language_info": {
   "codemirror_mode": {
    "name": "ipython",
    "version": 3
   },
   "file_extension": ".py",
   "mimetype": "text/x-python",
   "name": "python",
   "nbconvert_exporter": "python",
   "pygments_lexer": "ipython3",
   "version": "3.8.10"
  },
  "latex_envs": {
   "LaTeX_envs_menu_present": true,
   "autoclose": false,
   "autocomplete": true,
   "bibliofile": "biblio.bib",
   "cite_by": "apalike",
   "current_citInitial": 1,
   "eqLabelWithNumbers": true,
   "eqNumInitial": 1,
   "hotkeys": {
    "equation": "Ctrl-E",
    "itemize": "Ctrl-I"
   },
   "labels_anchors": false,
   "latex_user_defs": false,
   "report_style_numbering": false,
   "user_envs_cfg": false
  },
  "toc": {
   "base_numbering": 1,
   "nav_menu": {},
   "number_sections": true,
   "sideBar": true,
   "skip_h1_title": false,
   "title_cell": "Table of Contents",
   "title_sidebar": "Contents",
   "toc_cell": false,
   "toc_position": {},
   "toc_section_display": true,
   "toc_window_display": false
  },
  "varInspector": {
   "cols": {
    "lenName": 16,
    "lenType": 16,
    "lenVar": 40
   },
   "kernels_config": {
    "python": {
     "delete_cmd_postfix": "",
     "delete_cmd_prefix": "del ",
     "library": "var_list.py",
     "varRefreshCmd": "print(var_dic_list())"
    },
    "r": {
     "delete_cmd_postfix": ") ",
     "delete_cmd_prefix": "rm(",
     "library": "var_list.r",
     "varRefreshCmd": "cat(var_dic_list()) "
    }
   },
   "types_to_exclude": [
    "module",
    "function",
    "builtin_function_or_method",
    "instance",
    "_Feature"
   ],
   "window_display": false
  }
 },
 "nbformat": 4,
 "nbformat_minor": 5
}
